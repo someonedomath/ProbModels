{
 "cells": [
  {
   "cell_type": "markdown",
   "metadata": {},
   "source": [
    "We say an operator $S$\n",
    "$$\n",
    "A: \\mathcal P^+ \\to \\mathcal P^+\n",
    "$$\n",
    "\n",
    "- is $\\alpha$-scalable for some $\\alpha\\in \\mathbb R$ if\n",
    "  $$\n",
    "  A(\\theta f) = \\theta^\\alpha T f, \\quad \\theta \\geq 0, f\\in \\mathcal P^+.\n",
    "  $$\n",
    "\n",
    "- is monotonic if for each $f, g\\in \\mathcal P^+$ with $f\\leq g$, we have  \n",
    "  $$\n",
    "  Af \\leq Ag\n",
    "  $$"
   ]
  },
  {
   "cell_type": "markdown",
   "metadata": {},
   "source": [
    "We say an operator $A: D\\subset \\mathcal P^* \\to \\mathcal P^*$ is $\\alpha$-controlled for some $\\alpha \\in \\mathbb R$ if there is $M$ a monotonic operator and #S# an $\\alpha$-scalable operator such that\n",
    "$$\n",
    "    |Af|\\leq M|f| \\leq S|f|,\\quad f\\in D\n",
    "$$"
   ]
  },
  {
   "cell_type": "markdown",
   "metadata": {},
   "source": [
    "Let $A$ and $A_0$ be an $\\alpha$-controllable and an $\\alpha_0$-controllable operator, repectively. \n",
    "Denote by $M$ and $R$ the monotonic operator and the $\\alpha$-scalable operator corresponding to $A$. \n",
    "Denote by $M_0$ and $R_0$ similar for $A_0$.\n",
    "Then \n",
    "$$\n",
    "    |AA_0 f|\\leq M |A_0f| \\leq M M_0 |f| \n",
    "    \\leq MR_0 f = M|R_0 f|\\leq RR_0f\n",
    "$$"
   ]
  },
  {
   "cell_type": "code",
   "execution_count": null,
   "metadata": {},
   "outputs": [],
   "source": []
  },
  {
   "cell_type": "markdown",
   "metadata": {},
   "source": [
    "$$\n",
    "T_k^\\alpha \n",
    "$$\n",
    "is 1-scalable with\n",
    "$$\n",
    "|T_t^\\alpha g| \\leq e^{-\\kappa(g)bt} R_g\n",
    "$$"
   ]
  },
  {
   "cell_type": "markdown",
   "metadata": {},
   "source": [
    "Then\n",
    "$$\n",
    " |AT_t^\\alpha g| \\leq M|T_t^\\alpha g| \\leq M(e^{-\\kappa(g)bt}Qg) \\leq R e^{-\\kappa(g)bt}Qg\n",
    "$$"
   ]
  },
  {
   "cell_type": "code",
   "execution_count": null,
   "metadata": {},
   "outputs": [],
   "source": []
  }
 ],
 "metadata": {
  "kernelspec": {
   "display_name": "Python 3",
   "language": "python",
   "name": "python3"
  },
  "language_info": {
   "codemirror_mode": {
    "name": "ipython",
    "version": 3
   },
   "file_extension": ".py",
   "mimetype": "text/x-python",
   "name": "python",
   "nbconvert_exporter": "python",
   "pygments_lexer": "ipython3",
   "version": "3.6.4"
  }
 },
 "nbformat": 4,
 "nbformat_minor": 2
}
